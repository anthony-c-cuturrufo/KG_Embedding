{
 "cells": [
  {
   "cell_type": "code",
   "execution_count": 1,
   "id": "unnecessary-disease",
   "metadata": {},
   "outputs": [
    {
     "name": "stdout",
     "output_type": "stream",
     "text": [
      "Requirement already satisfied: dgl==0.4.3post2 in /Users/anthonycuturrufo/opt/anaconda3/envs/py36/lib/python3.6/site-packages (0.4.3.post2)\n",
      "Requirement already satisfied: networkx>=2.1 in /Users/anthonycuturrufo/opt/anaconda3/envs/py36/lib/python3.6/site-packages (from dgl==0.4.3post2) (2.5.1)\n",
      "Requirement already satisfied: requests>=2.19.0 in /Users/anthonycuturrufo/opt/anaconda3/envs/py36/lib/python3.6/site-packages (from dgl==0.4.3post2) (2.26.0)\n",
      "Requirement already satisfied: numpy>=1.14.0 in /Users/anthonycuturrufo/opt/anaconda3/envs/py36/lib/python3.6/site-packages (from dgl==0.4.3post2) (1.17.0)\n",
      "Requirement already satisfied: scipy>=1.1.0 in /Users/anthonycuturrufo/opt/anaconda3/envs/py36/lib/python3.6/site-packages (from dgl==0.4.3post2) (1.5.4)\n",
      "Requirement already satisfied: decorator<5,>=4.3 in /Users/anthonycuturrufo/opt/anaconda3/envs/py36/lib/python3.6/site-packages (from networkx>=2.1->dgl==0.4.3post2) (4.4.2)\n",
      "Requirement already satisfied: urllib3<1.27,>=1.21.1 in /Users/anthonycuturrufo/opt/anaconda3/envs/py36/lib/python3.6/site-packages (from requests>=2.19.0->dgl==0.4.3post2) (1.26.7)\n",
      "Requirement already satisfied: charset-normalizer~=2.0.0 in /Users/anthonycuturrufo/opt/anaconda3/envs/py36/lib/python3.6/site-packages (from requests>=2.19.0->dgl==0.4.3post2) (2.0.6)\n",
      "Requirement already satisfied: certifi>=2017.4.17 in /Users/anthonycuturrufo/opt/anaconda3/envs/py36/lib/python3.6/site-packages (from requests>=2.19.0->dgl==0.4.3post2) (2021.5.30)\n",
      "Requirement already satisfied: idna<4,>=2.5 in /Users/anthonycuturrufo/opt/anaconda3/envs/py36/lib/python3.6/site-packages (from requests>=2.19.0->dgl==0.4.3post2) (3.2)\n",
      "Requirement already satisfied: dglke in /Users/anthonycuturrufo/opt/anaconda3/envs/py36/lib/python3.6/site-packages (0.1.2)\n",
      "Requirement already satisfied: numpy in /Users/anthonycuturrufo/opt/anaconda3/envs/py36/lib/python3.6/site-packages (from dglke) (1.17.0)\n",
      "Requirement already satisfied: setuptools in /Users/anthonycuturrufo/opt/anaconda3/envs/py36/lib/python3.6/site-packages (from dglke) (58.0.4)\n"
     ]
    }
   ],
   "source": [
    "#!pip3 install torch\n",
    "!pip3 install dgl==0.4.3post2 \n",
    "!pip3 install dglke"
   ]
  },
  {
   "cell_type": "code",
   "execution_count": 2,
   "id": "excellent-overall",
   "metadata": {},
   "outputs": [],
   "source": [
    "import pandas as pd"
   ]
  },
  {
   "cell_type": "code",
   "execution_count": 1,
   "id": "becoming-street",
   "metadata": {},
   "outputs": [],
   "source": [
    "n = 50000  # every 100th line = 1% of the lines\n",
    "for filename in ['data/ad_test.tsv', 'data/ad_valid.tsv', 'data/ad_train.tsv']:\n",
    "    df = pd.read_csv(filename, header=0, skiprows=lambda i: i % n != 0)\n",
    "    new_filename = \"data2\" + filename[4:]\n",
    "    df.to_csv(new_filename, index=False)\n",
    "    print(len(df))"
   ]
  },
  {
   "cell_type": "code",
   "execution_count": 3,
   "id": "impossible-candle",
   "metadata": {},
   "outputs": [
    {
     "name": "stdout",
     "output_type": "stream",
     "text": [
      "Using backend: pytorch\r\n"
     ]
    }
   ],
   "source": [
    "!DGLBACKEND=pytorch dglke_train --dataset DRKG --data_path ./data2 --data_files ad_train.tsv ad_valid.tsv ad_test.tsv --format 'raw_udd_hrt' --model_name TransE_l2 --batch_size 2048 \\\n",
    "--neg_sample_size 256 --hidden_dim 400 --gamma 12.0 --lr 0.1 --max_step 100000 --log_interval 1000 --batch_size_eval 16 -adv --regularization_coef 1.00E-07 --test --num_thread 1 --gpu 0 1 2 3 4 5 6 7 --num_proc 8 --neg_sample_size_eval 10000 --async_update"
   ]
  },
  {
   "cell_type": "code",
   "execution_count": 1,
   "id": "tight-value",
   "metadata": {},
   "outputs": [
    {
     "ename": "SyntaxError",
     "evalue": "invalid syntax (<ipython-input-1-d2e7df637654>, line 1)",
     "output_type": "error",
     "traceback": [
      "\u001b[0;36m  File \u001b[0;32m\"<ipython-input-1-d2e7df637654>\"\u001b[0;36m, line \u001b[0;32m1\u001b[0m\n\u001b[0;31m    DGLBACKEND=pytorch dglke_train --dataset WANGK --data_path ./data2 --data_files ad_train.tsv ad_valid.tsv ad_test.tsv --format 'raw_udd_{htr}' --model_name TransE_l2 --batch_size 20 \\\u001b[0m\n\u001b[0m                       ^\u001b[0m\n\u001b[0;31mSyntaxError\u001b[0m\u001b[0;31m:\u001b[0m invalid syntax\n"
     ]
    }
   ],
   "source": [
    "DGLBACKEND=pytorch dglke_train --dataset WANGK --data_path ./data2 --data_files ad_train.tsv ad_valid.tsv ad_test.tsv --format raw_udd_htr --model_name TransE_l2 --batch_size 2 \\\n",
    "--neg_sample_size 2 --hidden_dim 4 --gamma 12.0 --lr 0.1 --max_step 10 --log_interval 10 --batch_size_eval 6 -adv --regularization_coef 1.00E-07 --test --num_thread 1 --num_proc 8 --neg_sample_size_eval 10"
   ]
  },
  {
   "cell_type": "code",
   "execution_count": null,
   "id": "3bda26ae",
   "metadata": {},
   "outputs": [],
   "source": [
    "DGLBACKEND=pytorch dglke_train --dataset WANGK --data_path ./data2 --data_files ad_train.tsv ad_valid.tsv ad_test.tsv --format raw_udd_htr --model_name TransE_l2 --batch_size 2 \\\n",
    "--neg_sample_size 2 --hidden_dim 4 --gamma 12.0 --lr 0.1 --max_step 10 --log_interval 10 --batch_size_eval 6 -adv --regularization_coef 1.00E-07 --test --num_thread 1 --num_proc 8 --neg_sample_size_eval 10"
   ]
  },
  {
   "cell_type": "code",
   "execution_count": null,
   "id": "sitting-scanner",
   "metadata": {},
   "outputs": [],
   "source": [
    "DGLBACKEND=pytorch dglke_train --dataset TONY --data_path ./data --data_files ad_train.tsv ad_valid.tsv ad_test.tsv --format raw_udd_htr --model_name RotatE --batch_size 100 --neg_sample_size 20 --hidden_dim 40 --gamma 12.0 --lr 0.1 --max_step 100 --log_interval 10 --batch_size_eval 6 -adv --regularization_coef 1.00E-07 --test --num_thread 1 --num_proc 8 --neg_sample_size_eval 100 -de\n"
   ]
  }
 ],
 "metadata": {
  "kernelspec": {
   "display_name": "py36",
   "language": "python",
   "name": "py36"
  },
  "language_info": {
   "codemirror_mode": {
    "name": "ipython",
    "version": 3
   },
   "file_extension": ".py",
   "mimetype": "text/x-python",
   "name": "python",
   "nbconvert_exporter": "python",
   "pygments_lexer": "ipython3",
   "version": "3.8.5"
  }
 },
 "nbformat": 4,
 "nbformat_minor": 5
}
