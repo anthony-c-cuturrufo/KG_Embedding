{
 "cells": [
  {
   "cell_type": "code",
   "execution_count": 1,
   "id": "unnecessary-disease",
   "metadata": {},
   "outputs": [
    {
     "name": "stdout",
     "output_type": "stream",
     "text": [
      "Requirement already satisfied: torch in /Users/anthonycuturrufo/opt/anaconda3/lib/python3.8/site-packages (1.9.0)\n",
      "Requirement already satisfied: typing-extensions in /Users/anthonycuturrufo/opt/anaconda3/lib/python3.8/site-packages (from torch) (3.7.4.3)\n",
      "Collecting dgl==0.4.3post2\n",
      "  Using cached dgl-0.4.3.post2-cp38-cp38-macosx_10_13_x86_64.whl (3.0 MB)\n",
      "Requirement already satisfied: scipy>=1.1.0 in /Users/anthonycuturrufo/opt/anaconda3/lib/python3.8/site-packages (from dgl==0.4.3post2) (1.6.1)\n",
      "Requirement already satisfied: requests>=2.19.0 in /Users/anthonycuturrufo/opt/anaconda3/lib/python3.8/site-packages (from dgl==0.4.3post2) (2.25.1)\n",
      "Requirement already satisfied: numpy>=1.14.0 in /Users/anthonycuturrufo/opt/anaconda3/lib/python3.8/site-packages (from dgl==0.4.3post2) (1.19.2)\n",
      "Requirement already satisfied: networkx>=2.1 in /Users/anthonycuturrufo/opt/anaconda3/lib/python3.8/site-packages (from dgl==0.4.3post2) (2.5)\n",
      "Requirement already satisfied: decorator>=4.3.0 in /Users/anthonycuturrufo/opt/anaconda3/lib/python3.8/site-packages (from networkx>=2.1->dgl==0.4.3post2) (4.4.2)\n",
      "Requirement already satisfied: idna<3,>=2.5 in /Users/anthonycuturrufo/opt/anaconda3/lib/python3.8/site-packages (from requests>=2.19.0->dgl==0.4.3post2) (2.10)\n",
      "Requirement already satisfied: chardet<5,>=3.0.2 in /Users/anthonycuturrufo/opt/anaconda3/lib/python3.8/site-packages (from requests>=2.19.0->dgl==0.4.3post2) (4.0.0)\n",
      "Requirement already satisfied: urllib3<1.27,>=1.21.1 in /Users/anthonycuturrufo/opt/anaconda3/lib/python3.8/site-packages (from requests>=2.19.0->dgl==0.4.3post2) (1.26.3)\n",
      "Requirement already satisfied: certifi>=2017.4.17 in /Users/anthonycuturrufo/opt/anaconda3/lib/python3.8/site-packages (from requests>=2.19.0->dgl==0.4.3post2) (2021.5.30)\n",
      "Installing collected packages: dgl\n",
      "  Attempting uninstall: dgl\n",
      "    Found existing installation: dgl 0.6.0.post1\n",
      "    Uninstalling dgl-0.6.0.post1:\n",
      "      Successfully uninstalled dgl-0.6.0.post1\n",
      "Successfully installed dgl-0.4.3.post2\n",
      "Requirement already satisfied: dglke in /Users/anthonycuturrufo/opt/anaconda3/lib/python3.8/site-packages (0.1.2)\n",
      "Requirement already satisfied: setuptools in /Users/anthonycuturrufo/opt/anaconda3/lib/python3.8/site-packages (from dglke) (52.0.0.post20210125)\n",
      "Requirement already satisfied: numpy in /Users/anthonycuturrufo/opt/anaconda3/lib/python3.8/site-packages (from dglke) (1.19.2)\n"
     ]
    }
   ],
   "source": [
    "!pip3 install torch\n",
    "!pip3 install dgl==0.4.3post2 \n",
    "!pip3 install dglke"
   ]
  },
  {
   "cell_type": "code",
   "execution_count": null,
   "id": "becoming-street",
   "metadata": {},
   "outputs": [],
   "source": []
  },
  {
   "cell_type": "code",
   "execution_count": null,
   "id": "impossible-candle",
   "metadata": {},
   "outputs": [],
   "source": [
    "!DGLBACKEND=pytorch dglke_train --dataset DRKG --data_path ./train --data_files drkg_train.tsv drkg_valid.tsv drkg_test.tsv --format 'raw_udd_hrt' --model_name TransE_l2 --batch_size 2048 \\\n",
    "--neg_sample_size 256 --hidden_dim 400 --gamma 12.0 --lr 0.1 --max_step 100000 --log_interval 1000 --batch_size_eval 16 -adv --regularization_coef 1.00E-07 --test --num_thread 1 --gpu 0 1 2 3 4 5 6 7 --num_proc 8 --neg_sample_size_eval 10000 --async_update"
   ]
  }
 ],
 "metadata": {
  "kernelspec": {
   "display_name": "Python 3",
   "language": "python",
   "name": "python3"
  },
  "language_info": {
   "codemirror_mode": {
    "name": "ipython",
    "version": 3
   },
   "file_extension": ".py",
   "mimetype": "text/x-python",
   "name": "python",
   "nbconvert_exporter": "python",
   "pygments_lexer": "ipython3",
   "version": "3.8.5"
  }
 },
 "nbformat": 4,
 "nbformat_minor": 5
}
