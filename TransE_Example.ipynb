{
 "cells": [
  {
   "cell_type": "code",
   "execution_count": 1,
   "id": "unnecessary-disease",
   "metadata": {},
   "outputs": [
    {
     "name": "stdout",
     "output_type": "stream",
     "text": [
      "Requirement already satisfied: torch in /Users/anthonycuturrufo/opt/anaconda3/lib/python3.8/site-packages (1.9.0)\n",
      "Requirement already satisfied: typing-extensions in /Users/anthonycuturrufo/opt/anaconda3/lib/python3.8/site-packages (from torch) (3.7.4.3)\n",
      "Collecting dgl==0.4.3post2\n",
      "  Using cached dgl-0.4.3.post2-cp38-cp38-macosx_10_13_x86_64.whl (3.0 MB)\n",
      "Requirement already satisfied: scipy>=1.1.0 in /Users/anthonycuturrufo/opt/anaconda3/lib/python3.8/site-packages (from dgl==0.4.3post2) (1.6.1)\n",
      "Requirement already satisfied: requests>=2.19.0 in /Users/anthonycuturrufo/opt/anaconda3/lib/python3.8/site-packages (from dgl==0.4.3post2) (2.25.1)\n",
      "Requirement already satisfied: numpy>=1.14.0 in /Users/anthonycuturrufo/opt/anaconda3/lib/python3.8/site-packages (from dgl==0.4.3post2) (1.19.2)\n",
      "Requirement already satisfied: networkx>=2.1 in /Users/anthonycuturrufo/opt/anaconda3/lib/python3.8/site-packages (from dgl==0.4.3post2) (2.5)\n",
      "Requirement already satisfied: decorator>=4.3.0 in /Users/anthonycuturrufo/opt/anaconda3/lib/python3.8/site-packages (from networkx>=2.1->dgl==0.4.3post2) (4.4.2)\n",
      "Requirement already satisfied: idna<3,>=2.5 in /Users/anthonycuturrufo/opt/anaconda3/lib/python3.8/site-packages (from requests>=2.19.0->dgl==0.4.3post2) (2.10)\n",
      "Requirement already satisfied: chardet<5,>=3.0.2 in /Users/anthonycuturrufo/opt/anaconda3/lib/python3.8/site-packages (from requests>=2.19.0->dgl==0.4.3post2) (4.0.0)\n",
      "Requirement already satisfied: urllib3<1.27,>=1.21.1 in /Users/anthonycuturrufo/opt/anaconda3/lib/python3.8/site-packages (from requests>=2.19.0->dgl==0.4.3post2) (1.26.3)\n",
      "Requirement already satisfied: certifi>=2017.4.17 in /Users/anthonycuturrufo/opt/anaconda3/lib/python3.8/site-packages (from requests>=2.19.0->dgl==0.4.3post2) (2021.5.30)\n",
      "Installing collected packages: dgl\n",
      "  Attempting uninstall: dgl\n",
      "    Found existing installation: dgl 0.6.0.post1\n",
      "    Uninstalling dgl-0.6.0.post1:\n",
      "      Successfully uninstalled dgl-0.6.0.post1\n",
      "Successfully installed dgl-0.4.3.post2\n",
      "Requirement already satisfied: dglke in /Users/anthonycuturrufo/opt/anaconda3/lib/python3.8/site-packages (0.1.2)\n",
      "Requirement already satisfied: setuptools in /Users/anthonycuturrufo/opt/anaconda3/lib/python3.8/site-packages (from dglke) (52.0.0.post20210125)\n",
      "Requirement already satisfied: numpy in /Users/anthonycuturrufo/opt/anaconda3/lib/python3.8/site-packages (from dglke) (1.19.2)\n"
     ]
    }
   ],
   "source": [
    "!pip3 install torch\n",
    "!pip3 install dgl==0.4.3post2 \n",
    "!pip3 install dglke"
   ]
  },
  {
   "cell_type": "code",
   "execution_count": null,
   "id": "becoming-street",
   "metadata": {},
   "outputs": [],
   "source": []
  },
  {
   "cell_type": "code",
   "execution_count": 2,
   "id": "impossible-candle",
   "metadata": {},
   "outputs": [
    {
     "name": "stdout",
     "output_type": "stream",
     "text": [
      "Using backend: pytorch\n",
      "Reading train triples....\n",
      "Finished. Read 29302890 train triples.\n",
      "Reading valid triples....\n",
      "Finished. Read 1627938 valid triples.\n",
      "Reading test triples....\n",
      "Finished. Read 1627939 test triples.\n",
      "|Train|: 29302890\n",
      "random partition 29302890 edges into 8 parts\n",
      "part 0 has 3662862 edges\n",
      "part 1 has 3662862 edges\n",
      "part 2 has 3662862 edges\n",
      "part 3 has 3662862 edges\n",
      "part 4 has 3662862 edges\n",
      "part 5 has 3662862 edges\n",
      "part 6 has 3662862 edges\n",
      "part 7 has 3662856 edges\n",
      "/Users/anthonycuturrufo/opt/anaconda3/lib/python3.8/site-packages/dgl/base.py:25: UserWarning: multigraph will be deprecated.DGL will treat all graphs as multigraph in the future.\n",
      "  warnings.warn(msg, warn_type)\n",
      "|valid|: 1627938\n",
      "|test|: 1627939\n",
      "Total initialize time 79.965 seconds\n",
      "Traceback (most recent call last):\n",
      "  File \"/Users/anthonycuturrufo/opt/anaconda3/bin/dglke_train\", line 8, in <module>\n",
      "    sys.exit(main())\n",
      "  File \"/Users/anthonycuturrufo/opt/anaconda3/lib/python3.8/site-packages/dglke/train.py\", line 279, in main\n",
      "    proc.start()\n",
      "  File \"/Users/anthonycuturrufo/opt/anaconda3/lib/python3.8/multiprocessing/process.py\", line 121, in start\n",
      "    self._popen = self._Popen(self)\n",
      "  File \"/Users/anthonycuturrufo/opt/anaconda3/lib/python3.8/multiprocessing/context.py\", line 224, in _Popen\n",
      "    return _default_context.get_context().Process._Popen(process_obj)\n",
      "  File \"/Users/anthonycuturrufo/opt/anaconda3/lib/python3.8/multiprocessing/context.py\", line 284, in _Popen\n",
      "    return Popen(process_obj)\n",
      "  File \"/Users/anthonycuturrufo/opt/anaconda3/lib/python3.8/multiprocessing/popen_spawn_posix.py\", line 32, in __init__\n",
      "    super().__init__(process_obj)\n",
      "  File \"/Users/anthonycuturrufo/opt/anaconda3/lib/python3.8/multiprocessing/popen_fork.py\", line 19, in __init__\n",
      "    self._launch(process_obj)\n",
      "  File \"/Users/anthonycuturrufo/opt/anaconda3/lib/python3.8/multiprocessing/popen_spawn_posix.py\", line 47, in _launch\n",
      "    reduction.dump(process_obj, fp)\n",
      "  File \"/Users/anthonycuturrufo/opt/anaconda3/lib/python3.8/multiprocessing/reduction.py\", line 60, in dump\n",
      "    ForkingPickler(file, protocol).dump(obj)\n",
      "AttributeError: Can't pickle local object 'TransEScore.create_neg.<locals>.fn'\n"
     ]
    }
   ],
   "source": [
    "!DGLBACKEND=pytorch dglke_train --dataset DRKG --data_path ./data --data_files ad_train.tsv ad_valid.tsv ad_test.tsv --format 'raw_udd_hrt' --model_name TransE_l2 --batch_size 2048 \\\n",
    "--neg_sample_size 256 --hidden_dim 400 --gamma 12.0 --lr 0.1 --max_step 100000 --log_interval 1000 --batch_size_eval 16 -adv --regularization_coef 1.00E-07 --test --num_thread 1 --gpu 0 1 2 3 4 5 6 7 --num_proc 8 --neg_sample_size_eval 10000 --async_update"
   ]
  },
  {
   "cell_type": "code",
   "execution_count": null,
   "id": "tight-value",
   "metadata": {},
   "outputs": [],
   "source": []
  }
 ],
 "metadata": {
  "kernelspec": {
   "display_name": "Python 3",
   "language": "python",
   "name": "python3"
  },
  "language_info": {
   "codemirror_mode": {
    "name": "ipython",
    "version": 3
   },
   "file_extension": ".py",
   "mimetype": "text/x-python",
   "name": "python",
   "nbconvert_exporter": "python",
   "pygments_lexer": "ipython3",
   "version": "3.8.5"
  }
 },
 "nbformat": 4,
 "nbformat_minor": 5
}
