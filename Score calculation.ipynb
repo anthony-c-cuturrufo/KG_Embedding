{
 "cells": [
  {
   "cell_type": "code",
   "execution_count": 1,
   "id": "sought-encyclopedia",
   "metadata": {},
   "outputs": [],
   "source": [
    "COV_disease_list = [\n",
    "\"DOID:0060500\",\n",
    "\"DOID:0050744\",\n",
    "\"DOID:0050771\",\n",
    "\"MeSH:D006520\",\n",
    "]"
   ]
  },
  {
   "cell_type": "code",
   "execution_count": 2,
   "id": "partial-permission",
   "metadata": {},
   "outputs": [],
   "source": [
    "drug_list = [\n",
    "\"HGNC:42\",\n",
    "\"HGNC:51\",\n",
    "\"HGNC:53\",\n",
    "\"HGNC:54\",\n",
    "\"HGNC:55\",\n",
    "\"HGNC:56\",\n",
    "\"HGNC:59\",\n",
    "\"HGNC:60\",\n",
    "\"HGNC:52\",\n",
    "\"HGNC:61\",\n",
    "\"HGNC:66\",\n",
    "\"HGNC:67\",\n",
    "\"HGNC:68\",\n",
    "\"HGNC:69\",\n",
    "\"HGNC:70\",\n",
    "\"HGNC:71\",\n",
    "\"HGNC:72\",\n",
    "\"HGNC:73\",\n",
    "\"HGNC:74\",\n",
    "\"HGNC:76\",\n",
    "\"HGNC:77\",\n",
    "\"HGNC:78\",\n",
    "\"HGNC:79\",\n",
    "\"HGNC:80\",\n",
    "\"HGNC:81\",\n",
    "]"
   ]
  },
  {
   "cell_type": "code",
   "execution_count": 3,
   "id": "square-companion",
   "metadata": {},
   "outputs": [],
   "source": [
    "treatment = [\n",
    "\"Semantic_Relation_GG\",     \n",
    "\"Inferred_Relation_DDi\",  \n",
    "\"Inferred_Relation_DiG\",   \n",
    "]"
   ]
  },
  {
   "cell_type": "code",
   "execution_count": 4,
   "id": "cutting-regulation",
   "metadata": {},
   "outputs": [],
   "source": [
    "entity_idmap_file = 'data/entities.tsv'\n",
    "relation_idmap_file = 'data/relations.tsv'"
   ]
  },
  {
   "cell_type": "markdown",
   "id": "curious-accreditation",
   "metadata": {},
   "source": [
    "# Get embeddings for diseases and drugs "
   ]
  },
  {
   "cell_type": "code",
   "execution_count": 5,
   "id": "norman-naples",
   "metadata": {},
   "outputs": [],
   "source": [
    "# Get drugname/disease name to entity ID mappings\n",
    "import csv\n",
    "entity_map = {}\n",
    "entity_id_map = {}\n",
    "relation_map = {}\n",
    "with open(entity_idmap_file, newline='', encoding='utf-8') as csvfile:\n",
    "    reader = csv.DictReader(csvfile, delimiter='\\t', fieldnames=['id','name'])\n",
    "    for row_val in reader:\n",
    "        #print(row_val)\n",
    "        entity_map[row_val['name']] = int(row_val['id'])\n",
    "        entity_id_map[int(row_val['id'])] = row_val['name']\n",
    "        \n",
    "with open(relation_idmap_file, newline='', encoding='utf-8') as csvfile:\n",
    "    reader = csv.DictReader(csvfile, delimiter='\\t', fieldnames=['id','name'])\n",
    "    for row_val in reader:\n",
    "        relation_map[row_val['name']] = int(row_val['id'])\n",
    "        \n",
    "# handle the ID mapping\n",
    "drug_ids = []\n",
    "disease_ids = []\n",
    "for drug in drug_list:\n",
    "    drug_ids.append(entity_map[drug])\n",
    "    \n",
    "for disease in COV_disease_list:\n",
    "    disease_ids.append(entity_map[disease])\n",
    "\n",
    "treatment_rid = [relation_map[treat]  for treat in treatment]"
   ]
  },
  {
   "cell_type": "code",
   "execution_count": 6,
   "id": "liable-winner",
   "metadata": {},
   "outputs": [
    {
     "data": {
      "text/plain": [
       "[4, 1, 0]"
      ]
     },
     "execution_count": 6,
     "metadata": {},
     "output_type": "execute_result"
    }
   ],
   "source": [
    "treatment_rid"
   ]
  },
  {
   "cell_type": "code",
   "execution_count": 7,
   "id": "emotional-apparel",
   "metadata": {},
   "outputs": [],
   "source": [
    "# Load embeddings\n",
    "import torch as th\n",
    "import pandas as pd\n",
    "import numpy as np\n",
    "import sys\n",
    "#TransR\n",
    "entity_emb = np.load('ckpts/TransR_TONY_2/TONY_TransR_entity.npy')\n",
    "rel_emb = np.load('ckpts/TransR_TONY_2/TONY_TransR_relation.npy')\n",
    "proj_emb = np.load('ckpts/TransR_TONY_2/TONY_TransRprojection.npy')\n",
    "proj_emb = th.tensor(proj_emb)\n",
    "\n",
    "\n",
    "#ComplEx\n",
    "# entity_emb = np.load('ckpts/ComplEx_TONY_2/TONY_ComplEx_entity.npy')\n",
    "# rel_emb = np.load('ckpts/ComplEx_TONY_2/TONY_ComplEx_relation.npy')\n",
    "\n",
    "#RotatE\n",
    "# entity_emb = np.load('ckpts/RotatE_TONY_4/TONY_RotatE_entity.npy')\n",
    "# rel_emb = np.load('ckpts/RotatE_TONY_4/TONY_RotatE_relation.npy')\n",
    "\n",
    "drug_ids = th.tensor(drug_ids).long()\n",
    "disease_ids = th.tensor(disease_ids).long()\n",
    "treatment_rid = th.tensor(treatment_rid) \n",
    "\n",
    "drug_emb = th.tensor(entity_emb[drug_ids])\n",
    "disease_emb_test = th.tensor(entity_emb[disease_ids])\n",
    "treatment_embs = [th.tensor(rel_emb[rid]) for rid in treatment_rid]\n"
   ]
  },
  {
   "cell_type": "code",
   "execution_count": 10,
   "id": "numeric-result",
   "metadata": {},
   "outputs": [],
   "source": [
    "import torch.nn.functional as fn\n",
    "from score_functions import *\n",
    "\n",
    "scores_per_disease = []\n",
    "dids = []\n",
    "for rid in range(len(treatment_embs)):\n",
    "    treatment_emb=treatment_embs[rid]\n",
    "    for disease_id in disease_ids:\n",
    "        disease_emb = entity_emb[disease_id]\n",
    "        score = fn.logsigmoid(transR(drug_emb, treatment_emb, disease_emb, proj_emb, treatment_rid[rid]))\n",
    "#         score = fn.logsigmoid(transE_l2(drug_emb, treatment_emb, disease_emb))\n",
    "#         score = fn.logsigmoid(complEx(drug_emb, treatment_emb, disease_emb))\n",
    "#         score = fn.logsigmoid(rotatE(drug_emb, treatment_emb, disease_emb))\n",
    "        scores_per_disease.append(score)\n",
    "        dids.append(drug_ids)\n",
    "scores = th.cat(scores_per_disease)\n",
    "dids = th.cat(dids)\n"
   ]
  },
  {
   "cell_type": "code",
   "execution_count": 11,
   "id": "proved-aspect",
   "metadata": {},
   "outputs": [],
   "source": [
    "# sort scores in decending order\n",
    "idx = th.flip(th.argsort(scores), dims=[0])\n",
    "scores = scores[idx].numpy()\n",
    "dids = dids[idx].numpy()"
   ]
  },
  {
   "cell_type": "code",
   "execution_count": 12,
   "id": "parental-lotus",
   "metadata": {},
   "outputs": [],
   "source": [
    "_, unique_indices = np.unique(dids, return_index=True)\n",
    "topk=10\n",
    "topk_indices = np.sort(unique_indices)[:topk]\n",
    "proposed_dids = dids[topk_indices]\n",
    "proposed_scores = scores[topk_indices]"
   ]
  },
  {
   "cell_type": "code",
   "execution_count": 13,
   "id": "inside-chair",
   "metadata": {},
   "outputs": [
    {
     "data": {
      "text/plain": [
       "5458"
      ]
     },
     "execution_count": 13,
     "metadata": {},
     "output_type": "execute_result"
    }
   ],
   "source": [
    "proposed_dids[0]"
   ]
  },
  {
   "cell_type": "code",
   "execution_count": 14,
   "id": "instrumental-hamilton",
   "metadata": {},
   "outputs": [
    {
     "name": "stdout",
     "output_type": "stream",
     "text": [
      "HGNC:74\t-0.006118614226579666\n",
      "HGNC:55\t-0.007556545082479715\n",
      "HGNC:61\t-0.014218335039913654\n",
      "HGNC:42\t-0.01582128368318081\n",
      "HGNC:56\t-0.016762128099799156\n",
      "HGNC:79\t-0.016790613532066345\n",
      "HGNC:53\t-0.02067175693809986\n",
      "HGNC:76\t-0.02750255912542343\n",
      "HGNC:59\t-0.03474847972393036\n",
      "HGNC:67\t-0.05467724800109863\n"
     ]
    }
   ],
   "source": [
    "for i in range(topk):\n",
    "    drug = int(proposed_dids[i])\n",
    "    score = proposed_scores[i]\n",
    "    \n",
    "    print(\"{}\\t{}\".format(entity_id_map[drug], score))"
   ]
  },
  {
   "cell_type": "code",
   "execution_count": 15,
   "id": "rubber-confidence",
   "metadata": {},
   "outputs": [
    {
     "ename": "FileNotFoundError",
     "evalue": "[Errno 2] No such file or directory: './COVID19_clinical_trial_drugs.tsv'",
     "output_type": "error",
     "traceback": [
      "\u001b[0;31m---------------------------------------------------------------------------\u001b[0m",
      "\u001b[0;31mFileNotFoundError\u001b[0m                         Traceback (most recent call last)",
      "\u001b[0;32m<ipython-input-15-2f03d4858977>\u001b[0m in \u001b[0;36m<module>\u001b[0;34m\u001b[0m\n\u001b[1;32m      1\u001b[0m \u001b[0mclinical_drugs_file\u001b[0m \u001b[0;34m=\u001b[0m \u001b[0;34m'./COVID19_clinical_trial_drugs.tsv'\u001b[0m\u001b[0;34m\u001b[0m\u001b[0;34m\u001b[0m\u001b[0m\n\u001b[1;32m      2\u001b[0m \u001b[0mclinical_drug_map\u001b[0m \u001b[0;34m=\u001b[0m \u001b[0;34m{\u001b[0m\u001b[0;34m}\u001b[0m\u001b[0;34m\u001b[0m\u001b[0;34m\u001b[0m\u001b[0m\n\u001b[0;32m----> 3\u001b[0;31m \u001b[0;32mwith\u001b[0m \u001b[0mopen\u001b[0m\u001b[0;34m(\u001b[0m\u001b[0mclinical_drugs_file\u001b[0m\u001b[0;34m,\u001b[0m \u001b[0mnewline\u001b[0m\u001b[0;34m=\u001b[0m\u001b[0;34m''\u001b[0m\u001b[0;34m,\u001b[0m \u001b[0mencoding\u001b[0m\u001b[0;34m=\u001b[0m\u001b[0;34m'utf-8'\u001b[0m\u001b[0;34m)\u001b[0m \u001b[0;32mas\u001b[0m \u001b[0mcsvfile\u001b[0m\u001b[0;34m:\u001b[0m\u001b[0;34m\u001b[0m\u001b[0;34m\u001b[0m\u001b[0m\n\u001b[0m\u001b[1;32m      4\u001b[0m     \u001b[0mreader\u001b[0m \u001b[0;34m=\u001b[0m \u001b[0mcsv\u001b[0m\u001b[0;34m.\u001b[0m\u001b[0mDictReader\u001b[0m\u001b[0;34m(\u001b[0m\u001b[0mcsvfile\u001b[0m\u001b[0;34m,\u001b[0m \u001b[0mdelimiter\u001b[0m\u001b[0;34m=\u001b[0m\u001b[0;34m'\\t'\u001b[0m\u001b[0;34m,\u001b[0m \u001b[0mfieldnames\u001b[0m\u001b[0;34m=\u001b[0m\u001b[0;34m[\u001b[0m\u001b[0;34m'id'\u001b[0m\u001b[0;34m,\u001b[0m \u001b[0;34m'drug_name'\u001b[0m\u001b[0;34m,\u001b[0m\u001b[0;34m'drug_id'\u001b[0m\u001b[0;34m]\u001b[0m\u001b[0;34m)\u001b[0m\u001b[0;34m\u001b[0m\u001b[0;34m\u001b[0m\u001b[0m\n\u001b[1;32m      5\u001b[0m     \u001b[0;32mfor\u001b[0m \u001b[0mrow_val\u001b[0m \u001b[0;32min\u001b[0m \u001b[0mreader\u001b[0m\u001b[0;34m:\u001b[0m\u001b[0;34m\u001b[0m\u001b[0;34m\u001b[0m\u001b[0m\n",
      "\u001b[0;31mFileNotFoundError\u001b[0m: [Errno 2] No such file or directory: './COVID19_clinical_trial_drugs.tsv'"
     ]
    }
   ],
   "source": [
    "clinical_drugs_file = './COVID19_clinical_trial_drugs.tsv'\n",
    "clinical_drug_map = {}\n",
    "with open(clinical_drugs_file, newline='', encoding='utf-8') as csvfile:\n",
    "    reader = csv.DictReader(csvfile, delimiter='\\t', fieldnames=['id', 'drug_name','drug_id'])\n",
    "    for row_val in reader:\n",
    "        clinical_drug_map[row_val['drug_id']] = row_val['drug_name']\n",
    "        \n",
    "for i in range(topk):\n",
    "    drug = entity_id_map[int(proposed_dids[i])][10:17]\n",
    "    if clinical_drug_map.get(drug, None) is not None:\n",
    "        score = proposed_scores[i]\n",
    "        print(\"[{}]\\t{}\\t{}\".format(i, clinical_drug_map[drug],score , proposed_scores[i]))"
   ]
  },
  {
   "cell_type": "code",
   "execution_count": null,
   "id": "occupied-afghanistan",
   "metadata": {},
   "outputs": [],
   "source": []
  },
  {
   "cell_type": "code",
   "execution_count": null,
   "id": "cheap-commander",
   "metadata": {},
   "outputs": [],
   "source": []
  },
  {
   "cell_type": "code",
   "execution_count": null,
   "id": "special-washer",
   "metadata": {},
   "outputs": [],
   "source": []
  }
 ],
 "metadata": {
  "kernelspec": {
   "display_name": "Python 3",
   "language": "python",
   "name": "python3"
  },
  "language_info": {
   "codemirror_mode": {
    "name": "ipython",
    "version": 3
   },
   "file_extension": ".py",
   "mimetype": "text/x-python",
   "name": "python",
   "nbconvert_exporter": "python",
   "pygments_lexer": "ipython3",
   "version": "3.8.5"
  }
 },
 "nbformat": 4,
 "nbformat_minor": 5
}
